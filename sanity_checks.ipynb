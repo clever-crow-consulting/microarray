{
 "cells": [
  {
   "cell_type": "code",
   "execution_count": 12,
   "metadata": {},
   "outputs": [
    {
     "name": "stdout",
     "output_type": "stream",
     "text": [
      "Counter({'C': 3, 'B': 2, 'A': 1})\n",
      "{'A': 1, 'C': 3, 'B': 2}\n",
      "{'A': 1, 'C': 3, 'B': 2, ('C', 'B'): 5, ('A', 'B'): 3, ('A', 'C'): 4}\n"
     ]
    }
   ],
   "source": [
    "from collections import Counter\n",
    "from itertools import combinations\n",
    "myc = Counter(\"ABBCCC\")\n",
    "print myc\n",
    "myd = dict(myc)\n",
    "print myd\n",
    "combos = combinations(myc.keys(), 2) \n",
    "for combo in combos:\n",
    "    myd[combo] = myd[combo[0]] + myd[combo[1]]\n",
    "print myd"
   ]
  },
  {
   "cell_type": "code",
   "execution_count": 32,
   "metadata": {},
   "outputs": [
    {
     "name": "stdout",
     "output_type": "stream",
     "text": [
      "('U937', 'hrs', ('0', '0.5'))\n"
     ]
    }
   ],
   "source": [
    "combo = ('U937_0_hrs', 'U937_0.5_hrs')\n",
    "print (combo[0].split(\"_\")[0], combo[0].split(\"_\")[2], tuple(sorted([x.split(\"_\")[1] for x in combo])))"
   ]
  },
  {
   "cell_type": "code",
   "execution_count": 30,
   "metadata": {},
   "outputs": [
    {
     "data": {
      "text/plain": [
       "['A', 'B', 'C']"
      ]
     },
     "execution_count": 30,
     "output_type": "execute_result",
     "metadata": {}
    }
   ],
   "source": [
    "sorted(\"CBA\")"
   ]
  },
  {
   "cell_type": "code",
   "execution_count": null,
   "metadata": {},
   "outputs": [],
   "source": [
    ""
   ]
  }
 ],
 "metadata": {
  "kernelspec": {
   "display_name": "Python 2",
   "language": "python",
   "name": "python2"
  },
  "language_info": {
   "codemirror_mode": {
    "name": "ipython",
    "version": 2.0
   },
   "file_extension": ".py",
   "mimetype": "text/x-python",
   "name": "python",
   "nbconvert_exporter": "python",
   "pygments_lexer": "ipython2",
   "version": "2.7.10"
  }
 },
 "nbformat": 4,
 "nbformat_minor": 0
}